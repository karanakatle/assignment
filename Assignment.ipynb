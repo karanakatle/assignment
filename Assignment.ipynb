{
 "cells": [
  {
   "cell_type": "code",
   "execution_count": 69,
   "metadata": {},
   "outputs": [],
   "source": [
    "import pandas as pd\n",
    "import numpy as np\n",
    "from hurst import compute_Hc, random_walk\n",
    "import hfda\n",
    "from scipy.stats import kruskal\n",
    "import matplotlib.pyplot as plt\n",
    "import seaborn as sns\n",
    "%matplotlib inline\n",
    "import scipy.stats as stats"
   ]
  },
  {
   "cell_type": "code",
   "execution_count": 2,
   "metadata": {},
   "outputs": [],
   "source": [
    "signals=pd.read_csv(r'C:\\Users\\karan\\Downloads\\intern_dataset.csv')"
   ]
  },
  {
   "cell_type": "code",
   "execution_count": 3,
   "metadata": {},
   "outputs": [
    {
     "data": {
      "text/html": [
       "<div>\n",
       "<style scoped>\n",
       "    .dataframe tbody tr th:only-of-type {\n",
       "        vertical-align: middle;\n",
       "    }\n",
       "\n",
       "    .dataframe tbody tr th {\n",
       "        vertical-align: top;\n",
       "    }\n",
       "\n",
       "    .dataframe thead th {\n",
       "        text-align: right;\n",
       "    }\n",
       "</style>\n",
       "<table border=\"1\" class=\"dataframe\">\n",
       "  <thead>\n",
       "    <tr style=\"text-align: right;\">\n",
       "      <th></th>\n",
       "      <th>Time</th>\n",
       "      <th>Signal1</th>\n",
       "      <th>Signal2</th>\n",
       "      <th>Label</th>\n",
       "    </tr>\n",
       "  </thead>\n",
       "  <tbody>\n",
       "    <tr>\n",
       "      <th>0</th>\n",
       "      <td>2017-08-14 11:37:49.791</td>\n",
       "      <td>33668.091913</td>\n",
       "      <td>0.856726</td>\n",
       "      <td>A</td>\n",
       "    </tr>\n",
       "    <tr>\n",
       "      <th>1</th>\n",
       "      <td>2017-08-14 11:37:49.801</td>\n",
       "      <td>32564.903040</td>\n",
       "      <td>0.856705</td>\n",
       "      <td>A</td>\n",
       "    </tr>\n",
       "    <tr>\n",
       "      <th>2</th>\n",
       "      <td>2017-08-14 11:37:49.811</td>\n",
       "      <td>31454.043305</td>\n",
       "      <td>0.856683</td>\n",
       "      <td>A</td>\n",
       "    </tr>\n",
       "    <tr>\n",
       "      <th>3</th>\n",
       "      <td>2017-08-14 11:37:49.821</td>\n",
       "      <td>30335.387166</td>\n",
       "      <td>0.856659</td>\n",
       "      <td>A</td>\n",
       "    </tr>\n",
       "    <tr>\n",
       "      <th>4</th>\n",
       "      <td>2017-08-14 11:37:49.831</td>\n",
       "      <td>29207.142938</td>\n",
       "      <td>0.856634</td>\n",
       "      <td>A</td>\n",
       "    </tr>\n",
       "  </tbody>\n",
       "</table>\n",
       "</div>"
      ],
      "text/plain": [
       "                      Time       Signal1   Signal2 Label\n",
       "0  2017-08-14 11:37:49.791  33668.091913  0.856726     A\n",
       "1  2017-08-14 11:37:49.801  32564.903040  0.856705     A\n",
       "2  2017-08-14 11:37:49.811  31454.043305  0.856683     A\n",
       "3  2017-08-14 11:37:49.821  30335.387166  0.856659     A\n",
       "4  2017-08-14 11:37:49.831  29207.142938  0.856634     A"
      ]
     },
     "execution_count": 3,
     "metadata": {},
     "output_type": "execute_result"
    }
   ],
   "source": [
    "signals.head()"
   ]
  },
  {
   "cell_type": "code",
   "execution_count": 4,
   "metadata": {},
   "outputs": [],
   "source": [
    "signals.drop(['Time'],axis=1,inplace=True)"
   ]
  },
  {
   "cell_type": "code",
   "execution_count": 5,
   "metadata": {},
   "outputs": [],
   "source": [
    "signalA = signals[signals['Label']=='A']\n",
    "signalB = signals[signals['Label']=='B']\n",
    "signalC = signals[signals['Label']=='C']"
   ]
  },
  {
   "cell_type": "markdown",
   "metadata": {},
   "source": [
    "The fractal dimension is given by the slope of best-fitting linear function"
   ]
  },
  {
   "cell_type": "markdown",
   "metadata": {},
   "source": [
    "##  Hurst Exponent"
   ]
  },
  {
   "cell_type": "markdown",
   "metadata": {},
   "source": [
    "The Hurst Exponent is related to Fractal Dimension by formulae D=2-H.\\\n",
    "and lower the value of Hurst Exponent, complex the data is.\\\n",
    "Hence Larger the value of Fractal Dimension complex the data is."
   ]
  },
  {
   "cell_type": "markdown",
   "metadata": {},
   "source": [
    "### Signal A"
   ]
  },
  {
   "cell_type": "code",
   "execution_count": 6,
   "metadata": {},
   "outputs": [
    {
     "data": {
      "image/png": "[encoded data removed]",
      "text/plain": [
       "<Figure size 432x288 with 1 Axes>"
      ]
     },
     "metadata": {
      "needs_background": "light"
     },
     "output_type": "display_data"
    },
    {
     "name": "stdout",
     "output_type": "stream",
     "text": [
      "H=0.0072, c=47.3216\n",
      "Fractal Dimension for Signal1=1.9928\n"
     ]
    },
    {
     "data": {
      "image/png": "[encoded data removed]",
      "text/plain": [
       "<Figure size 432x288 with 1 Axes>"
      ]
     },
     "metadata": {
      "needs_background": "light"
     },
     "output_type": "display_data"
    },
    {
     "name": "stdout",
     "output_type": "stream",
     "text": [
      "H=0.2982, c=70.0819\n",
      "Fractal Dimension for Signal2=1.7018\n",
      "\n",
      "\n",
      "The Fractal Dimension for Signal1 > Fractal Dimension for Signal2. Thus Signal1 is more complex than Signal2\n"
     ]
    }
   ],
   "source": [
    "#signal_matrix=signalA[['Signal1','Signal2']].values\n",
    "H, c, data = compute_Hc(signalA.Signal1.values, kind='random_walk', simplified=True)\n",
    "H1, c1, data1 = compute_Hc(signalA.Signal2.values, kind='random_walk', simplified=True)\n",
    "\n",
    "#sginal1\n",
    "f, ax = plt.subplots()\n",
    "ax.plot(data[0], c*data[0]**H, color=\"deepskyblue\")\n",
    "ax.scatter(data[0], data[1], color=\"purple\")\n",
    "ax.set_xscale('log')\n",
    "ax.set_yscale('log')\n",
    "ax.set_xlabel('Time interval')\n",
    "ax.set_ylabel('R/S ratio')\n",
    "ax.grid(True)\n",
    "plt.show()\n",
    "\n",
    "print(\"H={:.4f}, c={:.4f}\".format(H,c))\n",
    "print(\"Fractal Dimension for Signal1={:.4f}\".format(2-H))\n",
    "\n",
    "#signal2\n",
    "f, ax = plt.subplots()\n",
    "ax.plot(data1[0], c1*data1[0]**H1, color=\"deepskyblue\")\n",
    "ax.scatter(data1[0], data1[1], color=\"purple\")\n",
    "ax.set_xscale('log')\n",
    "ax.set_yscale('log')\n",
    "ax.set_xlabel('Time interval')\n",
    "ax.set_ylabel('R/S ratio')\n",
    "ax.grid(True)\n",
    "plt.show()\n",
    "\n",
    "print(\"H={:.4f}, c={:.4f}\".format(H1,c1))\n",
    "print(\"Fractal Dimension for Signal2={:.4f}\".format(2-H1))\n",
    "\n",
    "print('\\n')\n",
    "if 2-H < 2-H1:\n",
    "    print('The Fractal Dimension for Signal1 < Fractal Dimension for Signal2. Thus Signal2 is more complex than Signal1')\n",
    "elif 2-H > 2-H1:\n",
    "    print('The Fractal Dimension for Signal1 > Fractal Dimension for Signal2. Thus Signal1 is more complex than Signal2')"
   ]
  },
  {
   "cell_type": "markdown",
   "metadata": {},
   "source": [
    "### Signal B"
   ]
  },
  {
   "cell_type": "code",
   "execution_count": 9,
   "metadata": {},
   "outputs": [
    {
     "data": {
      "image/png": "[encoded data removed]",
      "text/plain": [
       "<Figure size 432x288 with 1 Axes>"
      ]
     },
     "metadata": {
      "needs_background": "light"
     },
     "output_type": "display_data"
    },
    {
     "name": "stdout",
     "output_type": "stream",
     "text": [
      "H=0.0296, c=42.9217\n",
      "Fractal Dimension for Signal1=1.9704\n"
     ]
    },
    {
     "data": {
      "image/png": "[encoded data removed]",
      "text/plain": [
       "<Figure size 432x288 with 1 Axes>"
      ]
     },
     "metadata": {
      "needs_background": "light"
     },
     "output_type": "display_data"
    },
    {
     "name": "stdout",
     "output_type": "stream",
     "text": [
      "H=0.1605, c=428.2401\n",
      "Fractal Dimension for Signal2=1.8395\n",
      "\n",
      "\n",
      "The Fractal Dimension for Signal1 >Fractal Dimension for Signal2. Thus Signal1 is more complex than Signal2\n"
     ]
    }
   ],
   "source": [
    "#ignal_matrix=signalB[['Signal1','Signal2']].values\n",
    "H, c, data = compute_Hc(signalB.Signal1.values, kind='random_walk', simplified=True)\n",
    "H1, c1, data1 = compute_Hc(signalB.Signal2.values, kind='random_walk', simplified=True)\n",
    "\n",
    "#sginal1\n",
    "f, ax = plt.subplots()\n",
    "ax.plot(data[0], c*data[0]**H, color=\"deepskyblue\")\n",
    "ax.scatter(data[0], data[1], color=\"purple\")\n",
    "ax.set_xscale('log')\n",
    "ax.set_yscale('log')\n",
    "ax.set_xlabel('Time interval')\n",
    "ax.set_ylabel('R/S ratio')\n",
    "ax.grid(True)\n",
    "plt.show()\n",
    "\n",
    "print(\"H={:.4f}, c={:.4f}\".format(H,c))\n",
    "print(\"Fractal Dimension for Signal1={:.4f}\".format(2-H))\n",
    "      \n",
    "#signal2\n",
    "f, ax = plt.subplots()\n",
    "ax.plot(data1[0], c1*data1[0]**H1, color=\"deepskyblue\")\n",
    "ax.scatter(data1[0], data1[1], color=\"purple\")\n",
    "ax.set_xscale('log')\n",
    "ax.set_yscale('log')\n",
    "ax.set_xlabel('Time interval')\n",
    "ax.set_ylabel('R/S ratio')\n",
    "ax.grid(True)\n",
    "plt.show()\n",
    "\n",
    "print(\"H={:.4f}, c={:.4f}\".format(H1,c1))\n",
    "print(\"Fractal Dimension for Signal2={:.4f}\".format(2-H1))\n",
    "\n",
    "print('\\n')\n",
    "if 2-H < 2-H1:\n",
    "    print('The Fractal Dimension for Signal1 < Fractal Dimension for Signal2. Thus Signal2 is more complex than Signal1')\n",
    "elif 2-H > 2-H1:\n",
    "    print('The Fractal Dimension for Signal1 >Fractal Dimension for Signal2. Thus Signal1 is more complex than Signal2')   "
   ]
  },
  {
   "cell_type": "markdown",
   "metadata": {},
   "source": [
    "### Signal C"
   ]
  },
  {
   "cell_type": "code",
   "execution_count": 8,
   "metadata": {},
   "outputs": [
    {
     "data": {
      "image/png": "[encoded data removed]",
      "text/plain": [
       "<Figure size 432x288 with 1 Axes>"
      ]
     },
     "metadata": {
      "needs_background": "light"
     },
     "output_type": "display_data"
    },
    {
     "name": "stdout",
     "output_type": "stream",
     "text": [
      "H=0.1315, c=38.3722\n",
      "Fractal Dimension for Signal1=1.8685\n"
     ]
    },
    {
     "data": {
      "image/png": "[encoded data removed]",
      "text/plain": [
       "<Figure size 432x288 with 1 Axes>"
      ]
     },
     "metadata": {
      "needs_background": "light"
     },
     "output_type": "display_data"
    },
    {
     "name": "stdout",
     "output_type": "stream",
     "text": [
      "H=0.3647, c=28.3287\n",
      "Fractal Dimension for Signal2=1.6353\n",
      "\n",
      "\n",
      "The Fractal Dimension for Signal1 > Fractal Dimension for Signal2. Thus Signal1 is more complex than Signal2\n"
     ]
    }
   ],
   "source": [
    "#signal_matrix=signalC[['Signal1','Signal2']].values\n",
    "H, c, data = compute_Hc(signalC.Signal1.values, kind='random_walk', simplified=True)\n",
    "H1, c1, data1 = compute_Hc(signalC.Signal2.values, kind='random_walk', simplified=True)\n",
    "\n",
    "#sginal1\n",
    "f, ax = plt.subplots()\n",
    "ax.plot(data[0], c*data[0]**H, color=\"deepskyblue\")\n",
    "ax.scatter(data[0], data[1], color=\"purple\")\n",
    "ax.set_xscale('log')\n",
    "ax.set_yscale('log')\n",
    "ax.set_xlabel('Time interval')\n",
    "ax.set_ylabel('R/S ratio')\n",
    "ax.grid(True)\n",
    "plt.show()\n",
    "\n",
    "print(\"H={:.4f}, c={:.4f}\".format(H,c))\n",
    "print(\"Fractal Dimension for Signal1={:.4f}\".format(2-H))\n",
    "\n",
    "#signal2\n",
    "f, ax = plt.subplots()\n",
    "ax.plot(data1[0], c1*data1[0]**H1, color=\"deepskyblue\")\n",
    "ax.scatter(data1[0], data1[1], color=\"purple\")\n",
    "ax.set_xscale('log')\n",
    "ax.set_yscale('log')\n",
    "ax.set_xlabel('Time interval')\n",
    "ax.set_ylabel('R/S ratio')\n",
    "ax.grid(True)\n",
    "plt.show()\n",
    "\n",
    "print(\"H={:.4f}, c={:.4f}\".format(H1,c1))\n",
    "print(\"Fractal Dimension for Signal2={:.4f}\".format(2-H1))\n",
    "\n",
    "print('\\n')\n",
    "if 2-H < 2-H1:\n",
    "    print('The Fractal Dimension for Signal1 < Fractal Dimension for Signal2. Thus Signal2 is more complex than Signal1')\n",
    "elif 2-H > 2-H1:\n",
    "    print('The Fractal Dimension for Signal1 > Fractal Dimension for Signal2. Thus Signal1 is more complex than Signal2')"
   ]
  },
  {
   "cell_type": "markdown",
   "metadata": {},
   "source": [
    "Thus from Hurst Exponent we can see that for all the class of data A,B,C signal 1 is more complex and from the analysis of Hurst component of Signal1 only, class A data is more complex as compared to class B.\n",
    "However Hurst component of Signal2 is lower for class B, i.e., in terms of Signal2, class B data is more complex"
   ]
  },
  {
   "cell_type": "markdown",
   "metadata": {},
   "source": [
    "## Higuchi's Fractal Dimension Analytics Method"
   ]
  },
  {
   "cell_type": "markdown",
   "metadata": {},
   "source": [
    "## Signal A"
   ]
  },
  {
   "cell_type": "code",
   "execution_count": 48,
   "metadata": {},
   "outputs": [
    {
     "name": "stdout",
     "output_type": "stream",
     "text": [
      "Fractal Dimension for Signal1=1.0050\n",
      "Fractal Dimension for Signal2=1.0006\n",
      "\n",
      "\n",
      "The Fractal Dimension for Signal1 >Fractal Dimension for Signal2. Thus Signal1 is more complex than Signal2\n"
     ]
    }
   ],
   "source": [
    "N=len(signalA)\n",
    "k_max = 5\n",
    "\n",
    "X1 = signalA.Signal1\n",
    "D1 = hfda.measure(X1, k_max)\n",
    "print(\"Fractal Dimension for Signal1={:.4f}\".format(D1))\n",
    "\n",
    "X2 = signalA.Signal2\n",
    "D2 = hfda.measure(X2, k_max)\n",
    "print(\"Fractal Dimension for Signal2={:.4f}\".format(D2))\n",
    "\n",
    "print('\\n')\n",
    "if D1 < D2:\n",
    "    print('The Fractal Dimension for Signal1 < Fractal Dimension for Signal2. Thus Signal2 is more complex than Signal1')\n",
    "elif D1 > D2:\n",
    "    print('The Fractal Dimension for Signal1 >Fractal Dimension for Signal2. Thus Signal1 is more complex than Signal2') "
   ]
  },
  {
   "cell_type": "markdown",
   "metadata": {},
   "source": [
    "### Signal B"
   ]
  },
  {
   "cell_type": "code",
   "execution_count": 49,
   "metadata": {},
   "outputs": [
    {
     "name": "stdout",
     "output_type": "stream",
     "text": [
      "1.007415460835062\n",
      "Fractal Dimension for Signal1=1.0074\n",
      "Fractal Dimension for Signal2=1.0001\n",
      "\n",
      "\n",
      "The Fractal Dimension for Signal1 >Fractal Dimension for Signal2. Thus Signal1 is more complex than Signal2\n"
     ]
    }
   ],
   "source": [
    "N=len(signalB)\n",
    "k_max = 5\n",
    "\n",
    "X1 = signalB.Signal1\n",
    "D1 = hfda.measure(X1, k_max)\n",
    "print(D1)\n",
    "print(\"Fractal Dimension for Signal1={:.4f}\".format(D1))\n",
    "\n",
    "X2 = signalB.Signal2\n",
    "D2 = hfda.measure(X2, k_max)\n",
    "print(\"Fractal Dimension for Signal2={:.4f}\".format(D2))\n",
    "\n",
    "print('\\n')\n",
    "if D1 < D2:\n",
    "    print('The Fractal Dimension for Signal1 < Fractal Dimension for Signal2. Thus Signal2 is more complex than Signal1')\n",
    "elif D1 > D2:\n",
    "    print('The Fractal Dimension for Signal1 >Fractal Dimension for Signal2. Thus Signal1 is more complex than Signal2') "
   ]
  },
  {
   "cell_type": "markdown",
   "metadata": {},
   "source": [
    "### Signal C"
   ]
  },
  {
   "cell_type": "code",
   "execution_count": 50,
   "metadata": {},
   "outputs": [
    {
     "name": "stdout",
     "output_type": "stream",
     "text": [
      "Fractal Dimension for Signal1=1.0084\n",
      "Fractal Dimension for Signal2=1.0012\n",
      "\n",
      "\n",
      "The Fractal Dimension for Signal1 >Fractal Dimension for Signal2. Thus Signal1 is more complex than Signal2\n"
     ]
    }
   ],
   "source": [
    "N=len(signalC)\n",
    "k_max = 5\n",
    "\n",
    "X1 = signalC.Signal1\n",
    "D1 = hfda.measure(X1, k_max)\n",
    "print(\"Fractal Dimension for Signal1={:.4f}\".format(D1))\n",
    "\n",
    "X2 = signalC.Signal2\n",
    "D2 = hfda.measure(X2, k_max)\n",
    "print(\"Fractal Dimension for Signal2={:.4f}\".format(D2))\n",
    "\n",
    "print('\\n')\n",
    "if D1 < D2:\n",
    "    print('The Fractal Dimension for Signal1 < Fractal Dimension for Signal2. Thus Signal2 is more complex than Signal1')\n",
    "elif D1 > D2:\n",
    "    print('The Fractal Dimension for Signal1 >Fractal Dimension for Signal2. Thus Signal1 is more complex than Signal2') "
   ]
  },
  {
   "cell_type": "markdown",
   "metadata": {},
   "source": [
    "Thus from the above analysis, Signal1 of all the classes (A,B,C) seems to be more complex.\\\n",
    "However, in terms of Signal1 and Signal2, class C data lookns more complex."
   ]
  },
  {
   "cell_type": "code",
   "execution_count": 67,
   "metadata": {},
   "outputs": [
    {
     "data": {
      "image/png": "[encoded data removed]",
      "text/plain": [
       "<Figure size 720x216 with 2 Axes>"
      ]
     },
     "metadata": {
      "needs_background": "light"
     },
     "output_type": "display_data"
    }
   ],
   "source": [
    "fig, ax =plt.subplots(1,2,figsize=(10,3))\n",
    "ax[0].set_xlabel('Signal 1')\n",
    "ax[1].set_xlabel('Signal 2')\n",
    "sns.kdeplot(signals['Signal1'], ax=ax[0],color=(0.1, 0.2, 0.5))  \n",
    "sns.kdeplot(signals['Signal2'], ax=ax[1],color=(1,0.2,0.1))\n",
    "fig.tight_layout()"
   ]
  },
  {
   "cell_type": "markdown",
   "metadata": {},
   "source": [
    "Shapiro-Wilk Test for Normal Distribution\n",
    "\n",
    "Null Hypothesis - The sample is not significantly deviated from normal distribution\n",
    "\n",
    "Alternate Hypothesis - The sample is significantly deviated from normal distribution"
   ]
  },
  {
   "cell_type": "code",
   "execution_count": 70,
   "metadata": {},
   "outputs": [
    {
     "name": "stdout",
     "output_type": "stream",
     "text": [
      "The sample of Signal 2 is not normally distributed\n"
     ]
    },
    {
     "name": "stderr",
     "output_type": "stream",
     "text": [
      "C:\\Users\\karan\\anaconda3\\lib\\site-packages\\scipy\\stats\\morestats.py:1681: UserWarning: p-value may not be accurate for N > 5000.\n",
      "  warnings.warn(\"p-value may not be accurate for N > 5000.\")\n"
     ]
    }
   ],
   "source": [
    "st,p=stats.shapiro(signals['Signal1'])\n",
    "if p<0.05:\n",
    "    print('The sample of Signal 2 is not normally distributed')\n",
    "else:\n",
    "    print('The sample of Signal 2 is normally distributed')"
   ]
  },
  {
   "cell_type": "code",
   "execution_count": 71,
   "metadata": {},
   "outputs": [
    {
     "name": "stdout",
     "output_type": "stream",
     "text": [
      "The sample of Signal 2 is not normally distributed\n"
     ]
    }
   ],
   "source": [
    "st,p=stats.shapiro(signals['Signal2'])\n",
    "if p<0.05:\n",
    "    print('The sample of Signal 2 is not normally distributed')\n",
    "else:\n",
    "    print('The sample of Signal 2 is normally distributed')"
   ]
  },
  {
   "cell_type": "markdown",
   "metadata": {},
   "source": [
    "As the data is not normally distributed and there are 2 independent samples and three groups we used Kruskal-Walis test as an alternative for 1 way ANOVA"
   ]
  },
  {
   "cell_type": "code",
   "execution_count": 55,
   "metadata": {},
   "outputs": [
    {
     "name": "stdout",
     "output_type": "stream",
     "text": [
      "Null Hypothesis: One or more sample distributions are not equal.\n",
      "Statistics=1351584.795, p=0.000\n",
      "Different distributions (reject H0)\n"
     ]
    }
   ],
   "source": [
    "stat, p = kruskal(signals.Signal1, signals.Signal2)\n",
    "print('Null Hypothesis: One or more sample distributions are not equal.')\n",
    "# interpret\n",
    "print('Statistics=%.3f, p=%.3f' % (stat, p))\n",
    "alpha = 0.05\n",
    "if p > alpha:\n",
    "\tprint('Same distributions (fail to reject H0)')\n",
    "else:\n",
    "\tprint('Different distributions (reject H0)')"
   ]
  },
  {
   "cell_type": "code",
   "execution_count": null,
   "metadata": {},
   "outputs": [],
   "source": []
  }
 ],
 "metadata": {
  "kernelspec": {
   "display_name": "Python 3",
   "language": "python",
   "name": "python3"
  },
  "language_info": {
   "codemirror_mode": {
    "name": "ipython",
    "version": 3
   },
   "file_extension": ".py",
   "mimetype": "text/x-python",
   "name": "python",
   "nbconvert_exporter": "python",
   "pygments_lexer": "ipython3",
   "version": "3.8.3"
  }
 },
 "nbformat": 4,
 "nbformat_minor": 4
}
